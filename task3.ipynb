{
 "cells": [
  {
   "cell_type": "markdown",
   "id": "15c73e6c-bdc8-490f-a4de-1df29dfef38c",
   "metadata": {},
   "source": [
    "Cначала просто создадим и заполним таблицы примерами"
   ]
  },
  {
   "cell_type": "code",
   "execution_count": null,
   "id": "353e2675-b965-418f-9a39-782700b6c7e6",
   "metadata": {},
   "outputs": [],
   "source": [
    "create table Orders (\n",
    "    order_id integer primary key AUTOINCREMENT,\n",
    "    promocode_id int,\n",
    "    foreign key (promocode_id) references Promocodes(promocode_id)\n",
    ");\n",
    "\n",
    "create table Promocodes (\n",
    "    promocode_id integer primary key AUTOINCREMENT,\n",
    "    name varchar(50),\n",
    "    discount int\n",
    ");\n",
    "\n",
    "INSERT INTO Promocodes (name, discount) VALUES\n",
    "('WELCOME', 10),\n",
    "('NEWYEAR', 20),\n",
    "('BIRTHDAY', 15),\n",
    "('BLACK', 30),\n",
    "('SAINTPATRIC', 10);\n",
    "\n",
    "INSERT INTO Orders (promocode_id) VALUES\n",
    "(1),\n",
    "(2),\n",
    "(3),\n",
    "(4),\n",
    "(5),\n",
    "(NULL),\n",
    "(NULL),\n",
    "(1),\n",
    "(NULL),\n",
    "(4),\n",
    "(NULL),\n",
    "(4),\n",
    "(NULL),\n",
    "(4),\n",
    "(NULL);\n"
   ]
  },
  {
   "cell_type": "markdown",
   "id": "30adc701-44b2-479a-9949-393bd99d5399",
   "metadata": {},
   "source": [
    "Первое, что конечно пришло в голову, это использование COUNT(promocode_id)/COUNT(*), но с обработкой NULL в таком случае может возникнуть проблема. Поэтому:"
   ]
  },
  {
   "cell_type": "code",
   "execution_count": null,
   "id": "dbdf31ac-4f25-46a4-b2a3-c2bc14e9281a",
   "metadata": {},
   "outputs": [],
   "source": [
    "select count(case when promocode_id is not null then 1 end) * 100.0 / count(*) as promo_perc\n",
    "from Orders;\n",
    "\n",
    "-- или:\n",
    "\n",
    "select count(promocode_id) * 100.0 /count(coalesce(promocode_id, 1)) as promo_perc\n",
    "from Orders;\n",
    "\n",
    "-- еще оказалось важным сначала умножать на 100, а потом уже делить :)"
   ]
  },
  {
   "cell_type": "markdown",
   "id": "7cb3cc79-7e2e-4baa-b1f8-ce8772182c86",
   "metadata": {},
   "source": [
    "Изначально основной запрос был тот, в котором ищется самый популярный промокод. Дальше было много вариантов где и как использовать подзапрос, в итоге оставила так. Еще подумаю о том, как обработать ситуацию, если у нас есть несколько промокодов с одинаковой частотой использования. "
   ]
  },
  {
   "cell_type": "code",
   "execution_count": null,
   "id": "b2ca8cf3-b7e8-48c1-82e9-f7b2375710cb",
   "metadata": {},
   "outputs": [],
   "source": [
    "select p.name\n",
    "from Promocodes p\n",
    "where p.promocode_id in (\n",
    "    select promocode_id\n",
    "    from Orders o\n",
    "    where o.promocode_id is not null\n",
    "    group by o.promocode_id\n",
    "    order by count(*) desc\n",
    "    limit 1\n",
    ");\n",
    "\n",
    "-- или так, но здесь не обойтись без вывода еще и кол-ва использований:\n",
    "\n",
    "select p.name, count(*) as counter\n",
    "from Orders o\n",
    "join Promocodes p on o.promocode_id = p.promocode_id\n",
    "where o.promocode_id is not null\n",
    "group by p.name\n",
    "order by counter desc\n",
    "limit 1;"
   ]
  }
 ],
 "metadata": {
  "kernelspec": {
   "display_name": "Python 3 (ipykernel)",
   "language": "python",
   "name": "python3"
  },
  "language_info": {
   "codemirror_mode": {
    "name": "ipython",
    "version": 3
   },
   "file_extension": ".py",
   "mimetype": "text/x-python",
   "name": "python",
   "nbconvert_exporter": "python",
   "pygments_lexer": "ipython3",
   "version": "3.12.2"
  }
 },
 "nbformat": 4,
 "nbformat_minor": 5
}
